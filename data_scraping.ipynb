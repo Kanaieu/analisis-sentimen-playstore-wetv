{
  "cells": [
    {
      "cell_type": "markdown",
      "metadata": {
        "id": "JLdRey1Tcbgf"
      },
      "source": [
        "**Programmer: Muhammad Tsaqiif Ash-Shiddiq**<br>\n",
        "**Start: 4:19 PM 4/13/2025**"
      ]
    },
    {
      "cell_type": "markdown",
      "metadata": {
        "id": "NM1Gyk0sctFe"
      },
      "source": [
        "**Aplikasi yang dipilih untuk menjadi target Analisis yaitu WeTV, Aplikasi layanan streaming video yang menyediakan beragam konten hiburan Asia, seperti drama Tiongkok, Korea, Thailand, dan variety show.**"
      ]
    },
    {
      "cell_type": "markdown",
      "metadata": {
        "id": "nmuoPcxSdaXo"
      },
      "source": [
        "# **Import Package**"
      ]
    },
    {
      "cell_type": "code",
      "execution_count": null,
      "metadata": {
        "colab": {
          "base_uri": "https://localhost:8080/"
        },
        "id": "IWum3DA6Xy_w",
        "outputId": "70dfd50b-1a15-4a6a-e060-5c3dc09e1d16"
      },
      "outputs": [
        {
          "name": "stdout",
          "output_type": "stream",
          "text": [
            "Collecting google-play-scraper\n",
            "  Downloading google_play_scraper-1.2.7-py3-none-any.whl.metadata (50 kB)\n",
            "\u001b[?25l     \u001b[90m━━━━━━━━━━━━━━━━━━━━━━━━━━━━━━━━━━━━━━━━\u001b[0m \u001b[32m0.0/50.2 kB\u001b[0m \u001b[31m?\u001b[0m eta \u001b[36m-:--:--\u001b[0m\r\u001b[2K     \u001b[91m━━━━━━━━━━━━━━━━━━━━━━━━━━━━━━━━\u001b[0m\u001b[91m╸\u001b[0m\u001b[90m━━━━━━━\u001b[0m \u001b[32m41.0/50.2 kB\u001b[0m \u001b[31m5.0 MB/s\u001b[0m eta \u001b[36m0:00:01\u001b[0m\r\u001b[2K     \u001b[90m━━━━━━━━━━━━━━━━━━━━━━━━━━━━━━━━━━━━━━━\u001b[0m \u001b[32m50.2/50.2 kB\u001b[0m \u001b[31m702.9 kB/s\u001b[0m eta \u001b[36m0:00:00\u001b[0m\n",
            "\u001b[?25hDownloading google_play_scraper-1.2.7-py3-none-any.whl (28 kB)\n",
            "Installing collected packages: google-play-scraper\n",
            "Successfully installed google-play-scraper-1.2.7\n",
            "Collecting sastrawi\n",
            "  Downloading Sastrawi-1.0.1-py2.py3-none-any.whl.metadata (909 bytes)\n",
            "Downloading Sastrawi-1.0.1-py2.py3-none-any.whl (209 kB)\n",
            "\u001b[2K   \u001b[90m━━━━━━━━━━━━━━━━━━━━━━━━━━━━━━━━━━━━━━━━\u001b[0m \u001b[32m209.7/209.7 kB\u001b[0m \u001b[31m2.6 MB/s\u001b[0m eta \u001b[36m0:00:00\u001b[0m\n",
            "\u001b[?25hInstalling collected packages: sastrawi\n",
            "Successfully installed sastrawi-1.0.1\n"
          ]
        }
      ],
      "source": [
        "!pip install google-play-scraper\n",
        "!pip install sastrawi"
      ]
    },
    {
      "cell_type": "markdown",
      "metadata": {
        "id": "4lG1VrhOe5bQ"
      },
      "source": [
        "**Import Package Data Scraping**"
      ]
    },
    {
      "cell_type": "code",
      "execution_count": null,
      "metadata": {
        "id": "OFEJTHZIcsbQ"
      },
      "outputs": [],
      "source": [
        "from google_play_scraper import app, reviews, Sort, reviews_all\n",
        "import pandas as pd\n",
        "import numpy as np\n",
        "import datetime as dt\n",
        "import time\n",
        "seed = 0\n",
        "np.random.seed(seed)\n",
        "pd.options.mode.chained_assignment = None"
      ]
    },
    {
      "cell_type": "markdown",
      "metadata": {
        "id": "26LlJevSfUvA"
      },
      "source": [
        "# **Scraping Dataset**"
      ]
    },
    {
      "cell_type": "code",
      "execution_count": null,
      "metadata": {
        "id": "3CrwkcQCfYcl"
      },
      "outputs": [],
      "source": [
        "all_reviews = []\n",
        "batch_size = 2000\n",
        "total_needed = 10000\n",
        "token = None\n",
        "\n",
        "while len(all_reviews) < total_needed:\n",
        "    result, token = reviews(\n",
        "        'com.tencent.qqlivei18n',\n",
        "        lang='id',  # Bahasa Indonesia\n",
        "        country='id',\n",
        "        sort=Sort.NEWEST,\n",
        "        count=batch_size,\n",
        "        continuation_token=token\n",
        "    )\n",
        "    all_reviews.extend(result)\n",
        "    print(f\"Scraped {len(all_reviews)} reviews...\")\n",
        "    time.sleep(2)\n",
        "\n",
        "df = pd.DataFrame(all_reviews)\n",
        "df = df[['userName', 'score', 'content']]\n",
        "df.to_csv('wetv_reviews.csv', index=False)\n",
        "print(\"Done scraping and saved to wetv_reviews.csv\")"
      ]
    },
    {
      "cell_type": "markdown",
      "metadata": {
        "id": "DwhffKlSgIyM"
      },
      "source": [
        "Penggunaan batch_size karena API playstore tidak mengizinkan langsung 10.000 sample data direquest, jadi dibagi per batch 2000 sample data dan di loop hingga mencapai 10.000 sample data."
      ]
    }
  ],
  "metadata": {
    "colab": {
      "provenance": []
    },
    "kernelspec": {
      "display_name": "Python 3",
      "name": "python3"
    },
    "language_info": {
      "name": "python",
      "version": "3.12.6"
    }
  },
  "nbformat": 4,
  "nbformat_minor": 0
}
